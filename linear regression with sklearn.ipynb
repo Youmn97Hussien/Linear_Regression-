{
  "nbformat": 4,
  "nbformat_minor": 0,
  "metadata": {
    "colab": {
      "provenance": [],
      "authorship_tag": "ABX9TyPWVJVkKL9E9SIjwG1CXtP1",
      "include_colab_link": true
    },
    "kernelspec": {
      "name": "python3",
      "display_name": "Python 3"
    },
    "language_info": {
      "name": "python"
    }
  },
  "cells": [
    {
      "cell_type": "markdown",
      "metadata": {
        "id": "view-in-github",
        "colab_type": "text"
      },
      "source": [
        "<a href=\"https://colab.research.google.com/github/Youmn97Hussien/Linear_Regression-/blob/main/linear%20regression%20with%20sklearn.ipynb\" target=\"_parent\"><img src=\"https://colab.research.google.com/assets/colab-badge.svg\" alt=\"Open In Colab\"/></a>"
      ]
    },
    {
      "cell_type": "code",
      "execution_count": 1,
      "metadata": {
        "id": "0Bw-uF0pJlrL",
        "colab": {
          "base_uri": "https://localhost:8080/"
        },
        "outputId": "84ef10ad-e824-45d4-a3f5-a8bf23752471"
      },
      "outputs": [
        {
          "output_type": "stream",
          "name": "stdout",
          "text": [
            "Downloading data from https://storage.googleapis.com/tensorflow/tf-keras-datasets/mnist.npz\n",
            "11490434/11490434 [==============================] - 1s 0us/step\n"
          ]
        }
      ],
      "source": [
        "from tensorflow import keras\n",
        "from keras.datasets import mnist\n",
        "from sklearn.linear_model import LinearRegression\n",
        "\n",
        "(X_Train, Y_Train) , (X_Test, Y_Test)= mnist.load_data()\n"
      ]
    },
    {
      "cell_type": "code",
      "source": [
        "def preprocess_Data(X_Train, Y_Train, X_Test, Y_Test):\n",
        "  # reshape dataset from 3D to 2D\n",
        "  X_Train_Samples,  X_Train_featuersR, X_Train_featuersC = X_Train.shape\n",
        "  X_Train = X_Train.reshape(X_Train_Samples, X_Train_featuersR * X_Train_featuersC)  \n",
        "\n",
        "  X_Test_Samples,   X_Test_featuersR,  X_Test_featuersC =  X_Test.shape\n",
        "  X_Test = X_Test.reshape(X_Test_Samples, X_Test_featuersR * X_Test_featuersC )  \n",
        "  print(X_Test.shape)\n",
        "  return X_Train, Y_Train, X_Test, Y_Test"
      ],
      "metadata": {
        "id": "kFiABuyTLFy3"
      },
      "execution_count": 2,
      "outputs": []
    },
    {
      "cell_type": "code",
      "source": [
        "def Train_LinearRegression(X_Train, Y_Train):\n",
        "  Model = LinearRegression()\n",
        "  # Model.fit(X_Train, Y_Train)            \n",
        "  return Model"
      ],
      "metadata": {
        "id": "Ra1Yq9lXOIHQ"
      },
      "execution_count": 3,
      "outputs": []
    },
    {
      "cell_type": "code",
      "source": [
        "def Calssify_LinearRegression(X_Test, Y_Test, Model):\n",
        "  Model= Model.predict(X_Test, Y_Test)\n",
        "  Model.score\n",
        "  return"
      ],
      "metadata": {
        "id": "SklMnBbgOPwm"
      },
      "execution_count": 4,
      "outputs": []
    },
    {
      "cell_type": "code",
      "source": [
        "# Main Calling\n",
        "preprocess_Data(X_Train, Y_Train, X_Test, Y_Test) \n",
        "Model = Train_LinearRegression(X_Train, Y_Train)\n",
        "Calssify_LinearRegression(X_Test, Y_Test, Model)"
      ],
      "metadata": {
        "colab": {
          "base_uri": "https://localhost:8080/",
          "height": 322
        },
        "id": "8QS3yJd6YWJp",
        "outputId": "6ffcbf92-f4e5-4008-9dee-dcc28d723e64"
      },
      "execution_count": 5,
      "outputs": [
        {
          "output_type": "stream",
          "name": "stdout",
          "text": [
            "(10000, 784)\n"
          ]
        },
        {
          "output_type": "error",
          "ename": "TypeError",
          "evalue": "ignored",
          "traceback": [
            "\u001b[0;31m---------------------------------------------------------------------------\u001b[0m",
            "\u001b[0;31mTypeError\u001b[0m                                 Traceback (most recent call last)",
            "\u001b[0;32m<ipython-input-5-cc601e922f1b>\u001b[0m in \u001b[0;36m<cell line: 4>\u001b[0;34m()\u001b[0m\n\u001b[1;32m      2\u001b[0m \u001b[0mpreprocess_Data\u001b[0m\u001b[0;34m(\u001b[0m\u001b[0mX_Train\u001b[0m\u001b[0;34m,\u001b[0m \u001b[0mY_Train\u001b[0m\u001b[0;34m,\u001b[0m \u001b[0mX_Test\u001b[0m\u001b[0;34m,\u001b[0m \u001b[0mY_Test\u001b[0m\u001b[0;34m)\u001b[0m\u001b[0;34m\u001b[0m\u001b[0;34m\u001b[0m\u001b[0m\n\u001b[1;32m      3\u001b[0m \u001b[0mModel\u001b[0m \u001b[0;34m=\u001b[0m \u001b[0mTrain_LinearRegression\u001b[0m\u001b[0;34m(\u001b[0m\u001b[0mX_Train\u001b[0m\u001b[0;34m,\u001b[0m \u001b[0mY_Train\u001b[0m\u001b[0;34m)\u001b[0m\u001b[0;34m\u001b[0m\u001b[0;34m\u001b[0m\u001b[0m\n\u001b[0;32m----> 4\u001b[0;31m \u001b[0mCalssify_LinearRegression\u001b[0m\u001b[0;34m(\u001b[0m\u001b[0mX_Test\u001b[0m\u001b[0;34m,\u001b[0m \u001b[0mY_Test\u001b[0m\u001b[0;34m,\u001b[0m \u001b[0mModel\u001b[0m\u001b[0;34m)\u001b[0m\u001b[0;34m\u001b[0m\u001b[0;34m\u001b[0m\u001b[0m\n\u001b[0m",
            "\u001b[0;32m<ipython-input-4-8161e220646c>\u001b[0m in \u001b[0;36mCalssify_LinearRegression\u001b[0;34m(X_Test, Y_Test, Model)\u001b[0m\n\u001b[1;32m      1\u001b[0m \u001b[0;32mdef\u001b[0m \u001b[0mCalssify_LinearRegression\u001b[0m\u001b[0;34m(\u001b[0m\u001b[0mX_Test\u001b[0m\u001b[0;34m,\u001b[0m \u001b[0mY_Test\u001b[0m\u001b[0;34m,\u001b[0m \u001b[0mModel\u001b[0m\u001b[0;34m)\u001b[0m\u001b[0;34m:\u001b[0m\u001b[0;34m\u001b[0m\u001b[0;34m\u001b[0m\u001b[0m\n\u001b[0;32m----> 2\u001b[0;31m   \u001b[0mModel\u001b[0m\u001b[0;34m=\u001b[0m \u001b[0mModel\u001b[0m\u001b[0;34m.\u001b[0m\u001b[0mpredict\u001b[0m\u001b[0;34m(\u001b[0m\u001b[0mX_Test\u001b[0m\u001b[0;34m,\u001b[0m \u001b[0mY_Test\u001b[0m\u001b[0;34m)\u001b[0m\u001b[0;34m\u001b[0m\u001b[0;34m\u001b[0m\u001b[0m\n\u001b[0m\u001b[1;32m      3\u001b[0m   \u001b[0mModel\u001b[0m\u001b[0;34m.\u001b[0m\u001b[0mscore\u001b[0m\u001b[0;34m\u001b[0m\u001b[0;34m\u001b[0m\u001b[0m\n\u001b[1;32m      4\u001b[0m   \u001b[0;32mreturn\u001b[0m\u001b[0;34m\u001b[0m\u001b[0;34m\u001b[0m\u001b[0m\n",
            "\u001b[0;31mTypeError\u001b[0m: LinearModel.predict() takes 2 positional arguments but 3 were given"
          ]
        }
      ]
    }
  ]
}