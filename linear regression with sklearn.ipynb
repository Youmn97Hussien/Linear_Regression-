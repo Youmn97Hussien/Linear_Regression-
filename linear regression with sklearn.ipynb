{
  "nbformat": 4,
  "nbformat_minor": 0,
  "metadata": {
    "colab": {
      "provenance": [],
      "authorship_tag": "ABX9TyPBwSwkxgp4Na06VTSc/d7y",
      "include_colab_link": true
    },
    "kernelspec": {
      "name": "python3",
      "display_name": "Python 3"
    },
    "language_info": {
      "name": "python"
    }
  },
  "cells": [
    {
      "cell_type": "markdown",
      "metadata": {
        "id": "view-in-github",
        "colab_type": "text"
      },
      "source": [
        "<a href=\"https://colab.research.google.com/github/Youmn97Hussien/Linear_Regression-/blob/main/Untitled0.ipynb\" target=\"_parent\"><img src=\"https://colab.research.google.com/assets/colab-badge.svg\" alt=\"Open In Colab\"/></a>"
      ]
    },
    {
      "cell_type": "code",
      "execution_count": 5,
      "metadata": {
        "id": "0Bw-uF0pJlrL"
      },
      "outputs": [],
      "source": [
        "from tensorflow import keras\n",
        "from keras.datasets import mnist\n",
        "from sklearn.linear_model import LinearRegression\n",
        "\n",
        "(X_Train, Y_Train) , (X_Test, Y_Test)= mnist.load_data()\n"
      ]
    },
    {
      "cell_type": "code",
      "source": [
        "def preprocess_Data(X_Train, Y_Train, X_Test, Y_Test):\n",
        "  # reshape dataset\n",
        "  # X_Train_Size\n",
        "  X_Train = X_Train.reshape(X_Train.size(60000,28,-1)) \n",
        "  print (X_Train.shape)\n",
        "  # Y_Train = Y_Train.reshape()  \n",
        "  # X_Test = X_Test.reshape()  \n",
        "  # Y_Test = Y_Test.reshape() \n",
        "\n",
        "  return X_Train, Y_Train, X_Test, Y_Test"
      ],
      "metadata": {
        "id": "kFiABuyTLFy3"
      },
      "execution_count": 8,
      "outputs": []
    },
    {
      "cell_type": "code",
      "source": [
        "# Main Calling\n",
        " preprocess_Data(X_Train, Y_Train, X_Test, Y_Test) "
      ],
      "metadata": {
        "id": "8QS3yJd6YWJp"
      },
      "execution_count": null,
      "outputs": []
    },
    {
      "cell_type": "code",
      "source": [
        "def Train_LinearRegression(X_Train, Y_Train)\n",
        "  return"
      ],
      "metadata": {
        "id": "Ra1Yq9lXOIHQ"
      },
      "execution_count": null,
      "outputs": []
    },
    {
      "cell_type": "code",
      "source": [
        "def Calssify_LinearRegression(X_Test, Y_Test)\n",
        "  return"
      ],
      "metadata": {
        "id": "SklMnBbgOPwm"
      },
      "execution_count": null,
      "outputs": []
    }
  ]
}
