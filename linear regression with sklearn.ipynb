{
  "nbformat": 4,
  "nbformat_minor": 0,
  "metadata": {
    "colab": {
      "provenance": [],
      "authorship_tag": "ABX9TyNYhHVsncyXrnNmOvOgAOx9",
      "include_colab_link": true
    },
    "kernelspec": {
      "name": "python3",
      "display_name": "Python 3"
    },
    "language_info": {
      "name": "python"
    }
  },
  "cells": [
    {
      "cell_type": "markdown",
      "metadata": {
        "id": "view-in-github",
        "colab_type": "text"
      },
      "source": [
        "<a href=\"https://colab.research.google.com/github/Youmn97Hussien/Linear_Regression-/blob/main/linear%20regression%20with%20sklearn.ipynb\" target=\"_parent\"><img src=\"https://colab.research.google.com/assets/colab-badge.svg\" alt=\"Open In Colab\"/></a>"
      ]
    },
    {
      "cell_type": "code",
      "execution_count": null,
      "metadata": {
        "id": "0Bw-uF0pJlrL"
      },
      "outputs": [],
      "source": [
        "from tensorflow import keras\n",
        "from keras.datasets import mnist\n",
        "from sklearn.linear_model import LinearRegression\n",
        "from sklearn.metrics import mean_squared_error\n",
        "import numpy as np\n",
        "\n",
        "(X_Train, Y_Train) , (X_Test, Y_Test)= mnist.load_data()\n"
      ]
    },
    {
      "cell_type": "code",
      "source": [
        "from tensorflow.python.ops.math_ops import Sum\n",
        "from pandas.core.api import isnull\n",
        "def preprocess_Data(X_Train, Y_Train, X_Test, Y_Test):\n",
        "  # reshape dataset from 3D to 2D\n",
        "  X_Train_Samples,  X_Train_featuersR, X_Train_featuersC = X_Train.shape\n",
        "  X_Train = X_Train.reshape(X_Train_Samples, X_Train_featuersR * X_Train_featuersC)\n",
        "  #checking if there is null values \n",
        "    # np.sum(np.isnan(X_Train))\n",
        "    # print( np.sum(np.isnan(X_Test)))\n",
        "\n",
        "  X_Test_Samples,   X_Test_featuersR,  X_Test_featuersC =  X_Test.shape\n",
        "  X_Test = X_Test.reshape(X_Test_Samples, X_Test_featuersR * X_Test_featuersC )  \n",
        "    \n",
        "  return X_Train, Y_Train, X_Test, Y_Test"
      ],
      "metadata": {
        "id": "kFiABuyTLFy3"
      },
      "execution_count": null,
      "outputs": []
    },
    {
      "cell_type": "code",
      "source": [
        "def Train_LinearRegression(X_Train, Y_Train):\n",
        "  Model = LinearRegression()\n",
        "  Model.fit(X_Train, Y_Train)            \n",
        "  return Model"
      ],
      "metadata": {
        "id": "Ra1Yq9lXOIHQ"
      },
      "execution_count": null,
      "outputs": []
    },
    {
      "cell_type": "code",
      "source": [
        "def Calssify_LinearRegression(X_Test, Y_Test, Model):\n",
        "  Y_predicted = Model.predict(X_Test)\n",
        "  MSE = mean_squared_error(Y_Test, Y_predicted)  \n",
        "  return MSE"
      ],
      "metadata": {
        "id": "SklMnBbgOPwm"
      },
      "execution_count": null,
      "outputs": []
    },
    {
      "cell_type": "code",
      "source": [
        "# Main Calling\n",
        "X_Train, Y_Train, X_Test, Y_Test = preprocess_Data(X_Train, Y_Train, X_Test, Y_Test) \n",
        "Model = Train_LinearRegression(X_Train, Y_Train)\n",
        "MSE = Calssify_LinearRegression(X_Test, Y_Test, Model)\n",
        "print(\"MSE = \", MSE)"
      ],
      "metadata": {
        "id": "8QS3yJd6YWJp"
      },
      "execution_count": null,
      "outputs": []
    }
  ]
}