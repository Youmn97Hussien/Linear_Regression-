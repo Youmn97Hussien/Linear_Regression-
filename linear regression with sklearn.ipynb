{
  "nbformat": 4,
  "nbformat_minor": 0,
  "metadata": {
    "colab": {
      "provenance": [],
      "authorship_tag": "ABX9TyOoO5udAtWk/+8ewkNqvVNo",
      "include_colab_link": true
    },
    "kernelspec": {
      "name": "python3",
      "display_name": "Python 3"
    },
    "language_info": {
      "name": "python"
    }
  },
  "cells": [
    {
      "cell_type": "markdown",
      "metadata": {
        "id": "view-in-github",
        "colab_type": "text"
      },
      "source": [
        "<a href=\"https://colab.research.google.com/github/Youmn97Hussien/Linear_Regression-/blob/main/linear%20regression%20with%20sklearn.ipynb\" target=\"_parent\"><img src=\"https://colab.research.google.com/assets/colab-badge.svg\" alt=\"Open In Colab\"/></a>"
      ]
    },
    {
      "cell_type": "code",
      "execution_count": 35,
      "metadata": {
        "id": "0Bw-uF0pJlrL"
      },
      "outputs": [],
      "source": [
        "from tensorflow import keras\n",
        "from keras.datasets import mnist\n",
        "from sklearn.linear_model import LinearRegression\n",
        "\n",
        "(X_Train, Y_Train) , (X_Test, Y_Test)= mnist.load_data()\n"
      ]
    },
    {
      "cell_type": "code",
      "source": [
        "def preprocess_Data(X_Train, Y_Train, X_Test, Y_Test):\n",
        "  # reshape dataset from 3D to 2D\n",
        "  X_Train_Samples,  X_Train_featuersR, X_Train_featuersC = X_Train.shape\n",
        "  X_Train = X_Train.reshape(X_Train_Samples, X_Train_featuersR * X_Train_featuersC)  \n",
        "\n",
        "  X_Test_Samples,   X_Test_featuersR,  X_Test_featuersC =  X_Test.shape\n",
        "  X_Test = X_Test.reshape(X_Test_Samples, X_Test_featuersR * X_Test_featuersC )  \n",
        "  print(X_Test.shape)\n",
        "  return X_Train, Y_Train, X_Test, Y_Test"
      ],
      "metadata": {
        "id": "kFiABuyTLFy3"
      },
      "execution_count": 36,
      "outputs": []
    },
    {
      "cell_type": "code",
      "source": [
        "def Train_LinearRegression(X_Train, Y_Train):\n",
        "  return"
      ],
      "metadata": {
        "id": "Ra1Yq9lXOIHQ"
      },
      "execution_count": 37,
      "outputs": []
    },
    {
      "cell_type": "code",
      "source": [
        "def Calssify_LinearRegression(X_Test, Y_Test):\n",
        "  return"
      ],
      "metadata": {
        "id": "SklMnBbgOPwm"
      },
      "execution_count": 38,
      "outputs": []
    },
    {
      "cell_type": "code",
      "source": [
        "# Main Calling\n",
        "preprocess_Data(X_Train, Y_Train, X_Test, Y_Test) "
      ],
      "metadata": {
        "colab": {
          "base_uri": "https://localhost:8080/"
        },
        "id": "8QS3yJd6YWJp",
        "outputId": "c4b886fd-1538-42ac-fe72-b6add48b6ca0"
      },
      "execution_count": 39,
      "outputs": [
        {
          "output_type": "stream",
          "name": "stdout",
          "text": [
            "(10000, 784)\n"
          ]
        },
        {
          "output_type": "execute_result",
          "data": {
            "text/plain": [
              "(array([[0, 0, 0, ..., 0, 0, 0],\n",
              "        [0, 0, 0, ..., 0, 0, 0],\n",
              "        [0, 0, 0, ..., 0, 0, 0],\n",
              "        ...,\n",
              "        [0, 0, 0, ..., 0, 0, 0],\n",
              "        [0, 0, 0, ..., 0, 0, 0],\n",
              "        [0, 0, 0, ..., 0, 0, 0]], dtype=uint8),\n",
              " array([5, 0, 4, ..., 5, 6, 8], dtype=uint8),\n",
              " array([[0, 0, 0, ..., 0, 0, 0],\n",
              "        [0, 0, 0, ..., 0, 0, 0],\n",
              "        [0, 0, 0, ..., 0, 0, 0],\n",
              "        ...,\n",
              "        [0, 0, 0, ..., 0, 0, 0],\n",
              "        [0, 0, 0, ..., 0, 0, 0],\n",
              "        [0, 0, 0, ..., 0, 0, 0]], dtype=uint8),\n",
              " array([7, 2, 1, ..., 4, 5, 6], dtype=uint8))"
            ]
          },
          "metadata": {},
          "execution_count": 39
        }
      ]
    }
  ]
}